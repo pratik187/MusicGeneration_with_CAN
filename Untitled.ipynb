{
 "cells": [
  {
   "cell_type": "code",
   "execution_count": 19,
   "id": "377dfe11",
   "metadata": {},
   "outputs": [
    {
     "name": "stdout",
     "output_type": "stream",
     "text": [
      "Collecting librosa\n",
      "  Downloading librosa-0.8.0.tar.gz (183 kB)\n",
      "\u001b[K     |████████████████████████████████| 183 kB 1.0 MB/s eta 0:00:01\n",
      "\u001b[?25hCollecting audioread>=2.0.0\n",
      "  Downloading audioread-2.1.9.tar.gz (377 kB)\n",
      "\u001b[K     |████████████████████████████████| 377 kB 2.6 MB/s eta 0:00:01\n",
      "\u001b[?25hRequirement already satisfied: numpy>=1.15.0 in /home/shyma/virtual_envs/pytorch/lib/python3.6/site-packages (from librosa) (1.19.5)\n",
      "Requirement already satisfied: scipy>=1.0.0 in /home/shyma/virtual_envs/pytorch/lib/python3.6/site-packages (from librosa) (1.4.1)\n",
      "Requirement already satisfied: scikit-learn!=0.19.0,>=0.14.0 in /home/shyma/virtual_envs/pytorch/lib/python3.6/site-packages (from librosa) (0.24.1)\n",
      "Requirement already satisfied: joblib>=0.14 in /home/shyma/virtual_envs/pytorch/lib/python3.6/site-packages (from librosa) (1.0.1)\n",
      "Requirement already satisfied: decorator>=3.0.0 in /home/shyma/virtual_envs/pytorch/lib/python3.6/site-packages (from librosa) (5.0.7)\n",
      "Collecting resampy>=0.2.2\n",
      "  Downloading resampy-0.2.2.tar.gz (323 kB)\n",
      "\u001b[K     |████████████████████████████████| 323 kB 2.6 MB/s eta 0:00:01\n",
      "\u001b[?25hCollecting numba>=0.43.0\n",
      "  Downloading numba-0.53.1-cp36-cp36m-manylinux2014_x86_64.whl (3.4 MB)\n",
      "\u001b[K     |████████████████████████████████| 3.4 MB 2.6 MB/s eta 0:00:01\n",
      "\u001b[?25hCollecting soundfile>=0.9.0\n",
      "  Downloading SoundFile-0.10.3.post1-py2.py3-none-any.whl (21 kB)\n",
      "Collecting pooch>=1.0\n",
      "  Downloading pooch-1.3.0-py3-none-any.whl (51 kB)\n",
      "\u001b[K     |████████████████████████████████| 51 kB 2.1 MB/s eta 0:00:01\n",
      "\u001b[?25hRequirement already satisfied: setuptools in /home/shyma/virtual_envs/pytorch/lib/python3.6/site-packages (from numba>=0.43.0->librosa) (56.0.0)\n",
      "Collecting llvmlite<0.37,>=0.36.0rc1\n",
      "  Downloading llvmlite-0.36.0-cp36-cp36m-manylinux2010_x86_64.whl (25.3 MB)\n",
      "\u001b[K     |████████████████████████████████| 25.3 MB 17.1 MB/s eta 0:00:01\n",
      "\u001b[?25hRequirement already satisfied: packaging in /home/shyma/virtual_envs/pytorch/lib/python3.6/site-packages (from pooch>=1.0->librosa) (20.9)\n",
      "Collecting appdirs\n",
      "  Downloading appdirs-1.4.4-py2.py3-none-any.whl (9.6 kB)\n",
      "Requirement already satisfied: requests in /home/shyma/virtual_envs/pytorch/lib/python3.6/site-packages (from pooch>=1.0->librosa) (2.25.1)\n",
      "Requirement already satisfied: six>=1.3 in /home/shyma/virtual_envs/pytorch/lib/python3.6/site-packages (from resampy>=0.2.2->librosa) (1.15.0)\n",
      "Requirement already satisfied: threadpoolctl>=2.0.0 in /home/shyma/virtual_envs/pytorch/lib/python3.6/site-packages (from scikit-learn!=0.19.0,>=0.14.0->librosa) (2.1.0)\n",
      "Requirement already satisfied: cffi>=1.0 in /home/shyma/virtual_envs/pytorch/lib/python3.6/site-packages (from soundfile>=0.9.0->librosa) (1.14.5)\n",
      "Requirement already satisfied: pycparser in /home/shyma/virtual_envs/pytorch/lib/python3.6/site-packages (from cffi>=1.0->soundfile>=0.9.0->librosa) (2.20)\n",
      "Requirement already satisfied: pyparsing>=2.0.2 in /home/shyma/virtual_envs/pytorch/lib/python3.6/site-packages (from packaging->pooch>=1.0->librosa) (2.4.7)\n",
      "Requirement already satisfied: idna<3,>=2.5 in /home/shyma/virtual_envs/pytorch/lib/python3.6/site-packages (from requests->pooch>=1.0->librosa) (2.10)\n",
      "Requirement already satisfied: chardet<5,>=3.0.2 in /home/shyma/virtual_envs/pytorch/lib/python3.6/site-packages (from requests->pooch>=1.0->librosa) (4.0.0)\n",
      "Requirement already satisfied: urllib3<1.27,>=1.21.1 in /home/shyma/virtual_envs/pytorch/lib/python3.6/site-packages (from requests->pooch>=1.0->librosa) (1.26.4)\n",
      "Requirement already satisfied: certifi>=2017.4.17 in /home/shyma/virtual_envs/pytorch/lib/python3.6/site-packages (from requests->pooch>=1.0->librosa) (2020.12.5)\n",
      "Building wheels for collected packages: librosa, audioread, resampy\n",
      "  Building wheel for librosa (setup.py) ... \u001b[?25ldone\n",
      "\u001b[?25h  Created wheel for librosa: filename=librosa-0.8.0-py3-none-any.whl size=201375 sha256=10877c2cad4d5cf04dd97402f9e970e74b353413f5aa959ba6c3681e25b822f9\n",
      "  Stored in directory: /home/shyma/.cache/pip/wheels/32/2c/ce/86e49d4769aceba728421c24c0d726054bf4ca01175ff42bdd\n",
      "  Building wheel for audioread (setup.py) ... \u001b[?25ldone\n",
      "\u001b[?25h  Created wheel for audioread: filename=audioread-2.1.9-py3-none-any.whl size=23141 sha256=169de581e0e061ced7587b5ebea9eb917e6eaa60b2edba65d24de61cfaa898eb\n",
      "  Stored in directory: /home/shyma/.cache/pip/wheels/de/14/0a/863e4ed680b3204444cf486733e609d7ff7abe8fceafab67dc\n",
      "  Building wheel for resampy (setup.py) ... \u001b[?25ldone\n",
      "\u001b[?25h  Created wheel for resampy: filename=resampy-0.2.2-py3-none-any.whl size=320718 sha256=4ae6cd7d95b58aa609727d69c36a479cfb97f74c6749db3088102fd79edcd4f5\n",
      "  Stored in directory: /home/shyma/.cache/pip/wheels/cf/d4/04/49d8824a42bd9f9b11d502727965b9997f0d41d2b22ae4f645\n",
      "Successfully built librosa audioread resampy\n",
      "Installing collected packages: llvmlite, numba, appdirs, soundfile, resampy, pooch, audioread, librosa\n",
      "Successfully installed appdirs-1.4.4 audioread-2.1.9 librosa-0.8.0 llvmlite-0.36.0 numba-0.53.1 pooch-1.3.0 resampy-0.2.2 soundfile-0.10.3.post1\n"
     ]
    }
   ],
   "source": [
    "!pip install librosa\n"
   ]
  },
  {
   "cell_type": "code",
   "execution_count": 33,
   "id": "822a555b",
   "metadata": {},
   "outputs": [],
   "source": [
    "import os\n",
    "import pretty_midi\n",
    "import librosa\n",
    "import numpy as np"
   ]
  },
  {
   "cell_type": "code",
   "execution_count": 34,
   "id": "bd3eb239",
   "metadata": {},
   "outputs": [],
   "source": [
    "def load_midi(midi_path):\n",
    "    \"\"\"Load a MAESTRO midi file.\n",
    "\n",
    "    Args:\n",
    "        midi_path (str): path to midi file\n",
    "\n",
    "    Returns:\n",
    "        midi_data (obj): pretty_midi object\n",
    "\n",
    "    \"\"\"\n",
    "    if not os.path.exists(midi_path):\n",
    "        raise IOError(\"midi_path {} does not exist\".format(midi_path))\n",
    "\n",
    "    return pretty_midi.PrettyMIDI(midi_path) "
   ]
  },
  {
   "cell_type": "code",
   "execution_count": 35,
   "id": "a92b4b94",
   "metadata": {},
   "outputs": [],
   "source": [
    "def load_notes(midi_path, midi=None):\n",
    "    \"\"\"Load note data from the midi file.\n",
    "\n",
    "    Args:\n",
    "        midi_path (str): path to midi file\n",
    "        midi (pretty_midi.PrettyMIDI): pre-loaded midi object or None\n",
    "            if None, the midi object is loaded using midi_path\n",
    "\n",
    "    Returns:\n",
    "        note_data (NoteData)\n",
    "\n",
    "    \"\"\"\n",
    "    if midi is None:\n",
    "        midi = load_midi(midi_path)\n",
    "\n",
    "    intervals = []\n",
    "    pitches = []\n",
    "    confidence = []\n",
    "    for note in midi.instruments[0].notes:\n",
    "        intervals.append([note.start, note.end])\n",
    "        pitches.append(librosa.midi_to_hz(note.pitch))\n",
    "        confidence.append(note.velocity)\n",
    "    return np.array(intervals), np.array(pitches), np.array(confidence)"
   ]
  },
  {
   "cell_type": "code",
   "execution_count": 36,
   "id": "9cbd2a99",
   "metadata": {},
   "outputs": [],
   "source": [
    "midi_path= './Jazz_Midi/AfterTheRainHasFallen.mid'"
   ]
  },
  {
   "cell_type": "code",
   "execution_count": 38,
   "id": "a28d1c0a",
   "metadata": {},
   "outputs": [],
   "source": [
    "intervals,pitches,conf=load_notes(midi_path, midi=None)"
   ]
  },
  {
   "cell_type": "code",
   "execution_count": 39,
   "id": "8cbbd438",
   "metadata": {},
   "outputs": [
    {
     "data": {
      "text/plain": [
       "987.7666025122483"
      ]
     },
     "execution_count": 39,
     "metadata": {},
     "output_type": "execute_result"
    }
   ],
   "source": [
    "max(pitches)"
   ]
  },
  {
   "cell_type": "code",
   "execution_count": 40,
   "id": "e20edcb5",
   "metadata": {},
   "outputs": [
    {
     "data": {
      "text/plain": [
       "466.1637615180899"
      ]
     },
     "execution_count": 40,
     "metadata": {},
     "output_type": "execute_result"
    }
   ],
   "source": [
    "min(pitches)"
   ]
  },
  {
   "cell_type": "code",
   "execution_count": null,
   "id": "3f96263c",
   "metadata": {},
   "outputs": [],
   "source": []
  }
 ],
 "metadata": {
  "kernelspec": {
   "display_name": "Python 3",
   "language": "python",
   "name": "python3"
  },
  "language_info": {
   "codemirror_mode": {
    "name": "ipython",
    "version": 3
   },
   "file_extension": ".py",
   "mimetype": "text/x-python",
   "name": "python",
   "nbconvert_exporter": "python",
   "pygments_lexer": "ipython3",
   "version": "3.6.8"
  }
 },
 "nbformat": 4,
 "nbformat_minor": 5
}
